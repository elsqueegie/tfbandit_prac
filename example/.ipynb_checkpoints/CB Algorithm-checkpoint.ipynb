{
 "cells": [
  {
   "cell_type": "markdown",
   "metadata": {},
   "source": [
    "# Contextual Bandits - Algorithm Implementation"
   ]
  },
  {
   "cell_type": "code",
   "execution_count": 1,
   "metadata": {},
   "outputs": [
    {
     "name": "stderr",
     "output_type": "stream",
     "text": [
      "/Users/jmacdonald/anaconda/lib/python3.5/site-packages/h5py/__init__.py:36: FutureWarning: Conversion of the second argument of issubdtype from `float` to `np.floating` is deprecated. In future, it will be treated as `np.float64 == np.dtype(float).type`.\n",
      "  from ._conv import register_converters as _register_converters\n",
      "Using TensorFlow backend.\n",
      "/Users/jmacdonald/anaconda/lib/python3.5/importlib/_bootstrap.py:222: RuntimeWarning: compiletime version 3.6 of module 'tensorflow.python.framework.fast_tensor_util' does not match runtime version 3.5\n",
      "  return f(*args, **kwds)\n"
     ]
    }
   ],
   "source": [
    "import pandas as pd\n",
    "from keras import Sequential, regularizers\n",
    "from keras.layers import Dense, BatchNormalization, Dropout, Activation\n",
    "from keras.utils import np_utils\n",
    "import numpy as np\n",
    "from sklearn.preprocessing import MinMaxScaler\n",
    "from sklearn.linear_model import SGDClassifier\n",
    "import seaborn as sns\n",
    "import matplotlib.pyplot as plt\n",
    "%matplotlib inline"
   ]
  },
  {
   "cell_type": "code",
   "execution_count": 2,
   "metadata": {},
   "outputs": [],
   "source": [
    "col_names = [\n",
    "    'elevation',\n",
    "    'aspect',\n",
    "    'slope',\n",
    "    'h_dist_hydro',\n",
    "    'v_dist_hydro',\n",
    "    'h_dist_road',\n",
    "    'shade_9am',\n",
    "    'shade_noon',\n",
    "    'shade_3pm',\n",
    "    'h_dist_fire',\n",
    "]\n",
    "\n",
    "col_names += ['wild_' + str(i) for i in range(4)]\n",
    "col_names += ['soil_' + str(i) for i in range(40)]\n",
    "col_names.append('cover_type')"
   ]
  },
  {
   "cell_type": "code",
   "execution_count": 3,
   "metadata": {},
   "outputs": [],
   "source": [
    "df = pd.read_csv('./data/covtype.data.gz', names=col_names)\n",
    "df = pd.get_dummies(df.sample(frac=1, replace=False), columns=['cover_type'])\n",
    "\n",
    "X = df.values[:,:-7]\n",
    "scalar = MinMaxScaler()\n",
    "X = scalar.fit_transform(X)\n",
    "Y = df.values[:,-7:]\n",
    "\n"
   ]
  },
  {
   "cell_type": "code",
   "execution_count": null,
   "metadata": {},
   "outputs": [],
   "source": [
    "%%time\n",
    "\n",
    "experts = [SGDClassifier(loss='log') for i in range(7)]\n",
    "chosens = []\n",
    "bests = []\n",
    "\n",
    "for i in range(100000):\n",
    "    context = X[i]\n",
    "    try:\n",
    "        selected = np.argmax([expert.predict_proba(context.reshape(1,-1))[1] for expert in experts])\n",
    "        bests.append(selected)\n",
    "    except:\n",
    "        selected = np.random.choice(range(len(experts)))\n",
    "    selected = np.random.choice([selected]+[np.random.choice(range(len(experts)))], p=[0.9,0.1])\n",
    "    chosens.append(selected)\n",
    "    expert = experts[selected]\n",
    "    expert.partial_fit(context.reshape(1,-1), Y[i][[selected]], classes=[0,1])"
   ]
  },
  {
   "cell_type": "code",
   "execution_count": null,
   "metadata": {},
   "outputs": [],
   "source": [
    "%%time \n",
    "\n",
    "results = pd.DataFrame([np.ravel([\n",
    "    expert.predict_proba(X[i].reshape(1,-1))[0][1] for expert in experts\n",
    "]) for i in range(100000,200000)])   "
   ]
  },
  {
   "cell_type": "code",
   "execution_count": null,
   "metadata": {},
   "outputs": [],
   "source": [
    "results['Pred'] = np.argmax(results.values, axis=1)\n",
    "results['Class'] = np.argmax(Y[100000:200000],axis=1)\n",
    "results['Match'] = (results['Pred']==results['Class'])\n",
    "results.groupby('Pred').size().plot(kind='bar')"
   ]
  },
  {
   "cell_type": "code",
   "execution_count": null,
   "metadata": {},
   "outputs": [],
   "source": [
    "results.groupby('Class').size().plot(kind='bar')"
   ]
  },
  {
   "cell_type": "code",
   "execution_count": 85,
   "metadata": {},
   "outputs": [
    {
     "data": {
      "text/plain": [
       "[None, None, None, None, None, None, None]"
      ]
     },
     "execution_count": 85,
     "metadata": {},
     "output_type": "execute_result"
    }
   ],
   "source": [
    "def get_expert(input_shape, n_hidden, n_layers):\n",
    "\n",
    "    expert = Sequential()\n",
    "    for layer in range(n_layers):\n",
    "        expert.add(Dense(n_hidden,\n",
    "                        kernel_initializer='glorot_uniform',\n",
    "                        activation='relu',\n",
    "                        input_dim=input_shape,\n",
    "                        kernel_regularizer=regularizers.l2(0.01)))\n",
    "        expert.add(BatchNormalization())\n",
    "        input_shape = n_hidden\n",
    "    expert.add(Dense(1, activation='sigmoid', input_dim=n_hidden))\n",
    "    return expert\n"
   ]
  },
  {
   "cell_type": "code",
   "execution_count": 146,
   "metadata": {},
   "outputs": [
    {
     "data": {
      "text/plain": [
       "[None, None, None, None, None, None, None]"
      ]
     },
     "execution_count": 146,
     "metadata": {},
     "output_type": "execute_result"
    }
   ],
   "source": [
    "experts = [get_expert(X.shape[1], 32, 1) for i in range(7)]\n",
    "[ex.compile(optimizer='adam',loss='binary_crossentropy') for ex in experts]"
   ]
  },
  {
   "cell_type": "code",
   "execution_count": 147,
   "metadata": {},
   "outputs": [
    {
     "name": "stdout",
     "output_type": "stream",
     "text": [
      "0\n",
      "5000\n",
      "10000\n",
      "15000\n",
      "20000\n",
      "25000\n",
      "30000\n",
      "35000\n",
      "40000\n",
      "45000\n",
      "50000\n",
      "55000\n",
      "60000\n",
      "65000\n",
      "70000\n",
      "75000\n",
      "80000\n",
      "85000\n",
      "90000\n",
      "95000\n",
      "100000\n",
      "CPU times: user 7min 52s, sys: 1min 15s, total: 9min 7s\n",
      "Wall time: 6min 37s\n"
     ]
    }
   ],
   "source": [
    "%%time\n",
    "chosens = []\n",
    "bests = []\n",
    "\n",
    "for i in range(100001):\n",
    "    context = X[i]\n",
    "    try:\n",
    "        selected = np.argmax([expert.predict_proba(context.reshape(1,-1))[1] for expert in experts])\n",
    "        bests.append(selected)\n",
    "    except:\n",
    "        selected = np.random.choice(range(len(experts)))\n",
    "    selected = np.random.choice([selected]+[np.random.choice(range(len(experts)))], p=[0.9,0.1])\n",
    "    chosens.append(selected)\n",
    "    expert = experts[selected]\n",
    "    expert.train_on_batch(context.reshape(1,-1), Y[i][[selected]])\n",
    "    if i % 5000 == 0:\n",
    "        print(i)"
   ]
  },
  {
   "cell_type": "code",
   "execution_count": 153,
   "metadata": {},
   "outputs": [],
   "source": [
    "j = [expert.predict_proba(X[100000:120000]) for expert in experts]"
   ]
  },
  {
   "cell_type": "code",
   "execution_count": 151,
   "metadata": {},
   "outputs": [
    {
     "name": "stdout",
     "output_type": "stream",
     "text": [
      "CPU times: user 6.04 s, sys: 403 ms, total: 6.45 s\n",
      "Wall time: 5.44 s\n"
     ]
    }
   ],
   "source": [
    "%%time \n",
    "\n",
    "results2 = pd.DataFrame([np.ravel(expert.predict_proba(X[100000:120000])) for expert in experts]).T"
   ]
  },
  {
   "cell_type": "code",
   "execution_count": 152,
   "metadata": {},
   "outputs": [
    {
     "data": {
      "text/html": [
       "<div>\n",
       "<style scoped>\n",
       "    .dataframe tbody tr th:only-of-type {\n",
       "        vertical-align: middle;\n",
       "    }\n",
       "\n",
       "    .dataframe tbody tr th {\n",
       "        vertical-align: top;\n",
       "    }\n",
       "\n",
       "    .dataframe thead th {\n",
       "        text-align: right;\n",
       "    }\n",
       "</style>\n",
       "<table border=\"1\" class=\"dataframe\">\n",
       "  <thead>\n",
       "    <tr style=\"text-align: right;\">\n",
       "      <th></th>\n",
       "      <th>0</th>\n",
       "      <th>1</th>\n",
       "      <th>2</th>\n",
       "      <th>3</th>\n",
       "      <th>4</th>\n",
       "      <th>5</th>\n",
       "      <th>6</th>\n",
       "    </tr>\n",
       "  </thead>\n",
       "  <tbody>\n",
       "    <tr>\n",
       "      <th>0</th>\n",
       "      <td>0.359451</td>\n",
       "      <td>0.491623</td>\n",
       "      <td>0.050542</td>\n",
       "      <td>0.005714</td>\n",
       "      <td>0.008777</td>\n",
       "      <td>0.02323</td>\n",
       "      <td>0.055086</td>\n",
       "    </tr>\n",
       "    <tr>\n",
       "      <th>1</th>\n",
       "      <td>0.359451</td>\n",
       "      <td>0.491623</td>\n",
       "      <td>0.050542</td>\n",
       "      <td>0.005714</td>\n",
       "      <td>0.008780</td>\n",
       "      <td>0.02323</td>\n",
       "      <td>0.055086</td>\n",
       "    </tr>\n",
       "    <tr>\n",
       "      <th>2</th>\n",
       "      <td>0.359451</td>\n",
       "      <td>0.491623</td>\n",
       "      <td>0.050542</td>\n",
       "      <td>0.005714</td>\n",
       "      <td>0.008777</td>\n",
       "      <td>0.02323</td>\n",
       "      <td>0.055086</td>\n",
       "    </tr>\n",
       "    <tr>\n",
       "      <th>3</th>\n",
       "      <td>0.359451</td>\n",
       "      <td>0.491623</td>\n",
       "      <td>0.050542</td>\n",
       "      <td>0.005714</td>\n",
       "      <td>0.008777</td>\n",
       "      <td>0.02323</td>\n",
       "      <td>0.055086</td>\n",
       "    </tr>\n",
       "    <tr>\n",
       "      <th>4</th>\n",
       "      <td>0.359451</td>\n",
       "      <td>0.491623</td>\n",
       "      <td>0.050542</td>\n",
       "      <td>0.005714</td>\n",
       "      <td>0.008777</td>\n",
       "      <td>0.02323</td>\n",
       "      <td>0.055086</td>\n",
       "    </tr>\n",
       "  </tbody>\n",
       "</table>\n",
       "</div>"
      ],
      "text/plain": [
       "          0         1         2         3         4        5         6\n",
       "0  0.359451  0.491623  0.050542  0.005714  0.008777  0.02323  0.055086\n",
       "1  0.359451  0.491623  0.050542  0.005714  0.008780  0.02323  0.055086\n",
       "2  0.359451  0.491623  0.050542  0.005714  0.008777  0.02323  0.055086\n",
       "3  0.359451  0.491623  0.050542  0.005714  0.008777  0.02323  0.055086\n",
       "4  0.359451  0.491623  0.050542  0.005714  0.008777  0.02323  0.055086"
      ]
     },
     "execution_count": 152,
     "metadata": {},
     "output_type": "execute_result"
    }
   ],
   "source": [
    "results2.head()"
   ]
  },
  {
   "cell_type": "code",
   "execution_count": 149,
   "metadata": {},
   "outputs": [
    {
     "name": "stdout",
     "output_type": "stream",
     "text": [
      "CPU times: user 67.1 ms, sys: 3.47 ms, total: 70.6 ms\n",
      "Wall time: 75.1 ms\n"
     ]
    },
    {
     "data": {
      "image/png": "[encoded data removed]",
      "text/plain": [
       "<Figure size 432x288 with 1 Axes>"
      ]
     },
     "metadata": {},
     "output_type": "display_data"
    }
   ],
   "source": [
    "%%time\n",
    "\n",
    "results2['Pred'] = np.argmax(results2[list(range(7))].values, axis=1)\n",
    "results2['Class'] = np.argmax(Y[100000:120000],axis=1)\n",
    "results2['Match'] = (results2['Pred']==results2['Class'])\n",
    "results2.groupby('Pred').size().plot(kind='bar')"
   ]
  },
  {
   "cell_type": "code",
   "execution_count": 97,
   "metadata": {},
   "outputs": [
    {
     "data": {
      "text/html": [
       "<div>\n",
       "<style scoped>\n",
       "    .dataframe tbody tr th:only-of-type {\n",
       "        vertical-align: middle;\n",
       "    }\n",
       "\n",
       "    .dataframe tbody tr th {\n",
       "        vertical-align: top;\n",
       "    }\n",
       "\n",
       "    .dataframe thead th {\n",
       "        text-align: right;\n",
       "    }\n",
       "</style>\n",
       "<table border=\"1\" class=\"dataframe\">\n",
       "  <thead>\n",
       "    <tr style=\"text-align: right;\">\n",
       "      <th></th>\n",
       "      <th>0</th>\n",
       "      <th>1</th>\n",
       "      <th>2</th>\n",
       "      <th>3</th>\n",
       "      <th>4</th>\n",
       "      <th>5</th>\n",
       "      <th>6</th>\n",
       "      <th>Pred</th>\n",
       "      <th>Class</th>\n",
       "      <th>Match</th>\n",
       "    </tr>\n",
       "  </thead>\n",
       "  <tbody>\n",
       "    <tr>\n",
       "      <th>0</th>\n",
       "      <td>0.36427</td>\n",
       "      <td>0.47401</td>\n",
       "      <td>0.045949</td>\n",
       "      <td>0.005295</td>\n",
       "      <td>0.010814</td>\n",
       "      <td>0.023954</td>\n",
       "      <td>0.034408</td>\n",
       "      <td>1</td>\n",
       "      <td>1</td>\n",
       "      <td>True</td>\n",
       "    </tr>\n",
       "    <tr>\n",
       "      <th>1</th>\n",
       "      <td>0.36427</td>\n",
       "      <td>0.47401</td>\n",
       "      <td>0.045949</td>\n",
       "      <td>0.005295</td>\n",
       "      <td>0.010814</td>\n",
       "      <td>0.023953</td>\n",
       "      <td>0.034408</td>\n",
       "      <td>1</td>\n",
       "      <td>0</td>\n",
       "      <td>False</td>\n",
       "    </tr>\n",
       "    <tr>\n",
       "      <th>2</th>\n",
       "      <td>0.36427</td>\n",
       "      <td>0.47401</td>\n",
       "      <td>0.045949</td>\n",
       "      <td>0.005295</td>\n",
       "      <td>0.010814</td>\n",
       "      <td>0.023956</td>\n",
       "      <td>0.034408</td>\n",
       "      <td>1</td>\n",
       "      <td>1</td>\n",
       "      <td>True</td>\n",
       "    </tr>\n",
       "    <tr>\n",
       "      <th>3</th>\n",
       "      <td>0.36427</td>\n",
       "      <td>0.47401</td>\n",
       "      <td>0.045949</td>\n",
       "      <td>0.005295</td>\n",
       "      <td>0.010814</td>\n",
       "      <td>0.023970</td>\n",
       "      <td>0.034408</td>\n",
       "      <td>1</td>\n",
       "      <td>1</td>\n",
       "      <td>True</td>\n",
       "    </tr>\n",
       "    <tr>\n",
       "      <th>4</th>\n",
       "      <td>0.36427</td>\n",
       "      <td>0.47401</td>\n",
       "      <td>0.045949</td>\n",
       "      <td>0.005295</td>\n",
       "      <td>0.010814</td>\n",
       "      <td>0.023959</td>\n",
       "      <td>0.034408</td>\n",
       "      <td>1</td>\n",
       "      <td>0</td>\n",
       "      <td>False</td>\n",
       "    </tr>\n",
       "  </tbody>\n",
       "</table>\n",
       "</div>"
      ],
      "text/plain": [
       "         0        1         2         3         4         5         6  Pred  \\\n",
       "0  0.36427  0.47401  0.045949  0.005295  0.010814  0.023954  0.034408     1   \n",
       "1  0.36427  0.47401  0.045949  0.005295  0.010814  0.023953  0.034408     1   \n",
       "2  0.36427  0.47401  0.045949  0.005295  0.010814  0.023956  0.034408     1   \n",
       "3  0.36427  0.47401  0.045949  0.005295  0.010814  0.023970  0.034408     1   \n",
       "4  0.36427  0.47401  0.045949  0.005295  0.010814  0.023959  0.034408     1   \n",
       "\n",
       "   Class  Match  \n",
       "0      1   True  \n",
       "1      0  False  \n",
       "2      1   True  \n",
       "3      1   True  \n",
       "4      0  False  "
      ]
     },
     "execution_count": 97,
     "metadata": {},
     "output_type": "execute_result"
    }
   ],
   "source": [
    "%%time\n",
    "\n",
    "experts = [get_expert(X.shape[1], 32, 1) for i in range(7)]\n",
    "[ex.compile(optimizer='adam',loss='binary_crossentropy') for ex in experts]\n",
    "chosens = []\n",
    "bests = []\n",
    "\n",
    "for i in range(10001):\n",
    "    context = X[i]\n",
    "    try:\n",
    "        selected = np.argmax([expert.predict_proba(context.reshape(1,-1))[1] for expert in experts])\n",
    "        bests.append(selected)\n",
    "    except:\n",
    "        selected = np.random.choice(range(len(experts)))\n",
    "    selected = np.random.choice([selected]+[np.random.choice(range(len(experts)))], p=[0.9,0.1])\n",
    "    chosens.append(selected)\n",
    "    expert = experts[selected]\n",
    "    expert.train_on_batch(context.reshape(1,-1), Y[i][[selected]])\n",
    "    if i % 500 == 0:\n",
    "        print(i)"
   ]
  },
  {
   "cell_type": "code",
   "execution_count": 98,
   "metadata": {},
   "outputs": [],
   "source": [
    "experts = [get_expert(X.shape[1], 32, 1) for i in range(7)]\n",
    "[ex.compile(optimizer='adam',loss='binary_crossentropy') for ex in experts]\n",
    "chosens = []\n",
    "bests = []"
   ]
  },
  {
   "cell_type": "code",
   "execution_count": 121,
   "metadata": {},
   "outputs": [
    {
     "data": {
      "text/plain": [
       "1.2041323"
      ]
     },
     "execution_count": 121,
     "metadata": {},
     "output_type": "execute_result"
    }
   ],
   "source": [
    "experts[0].train_on_batch(X[:20000], Y[:20000,0])"
   ]
  },
  {
   "cell_type": "code",
   "execution_count": 129,
   "metadata": {},
   "outputs": [
    {
     "data": {
      "text/plain": [
       "(54,)"
      ]
     },
     "execution_count": 129,
     "metadata": {},
     "output_type": "execute_result"
    }
   ],
   "source": [
    "X[1,:].shape"
   ]
  },
  {
   "cell_type": "code",
   "execution_count": 124,
   "metadata": {},
   "outputs": [],
   "source": [
    "r = pd.DataFrame(experts[0].predict_proba(X[-10:]), columns=['PR'])\n",
    "r['GT'] = Y[-10:,[0]]"
   ]
  },
  {
   "cell_type": "code",
   "execution_count": 125,
   "metadata": {},
   "outputs": [
    {
     "data": {
      "text/html": [
       "<div>\n",
       "<style scoped>\n",
       "    .dataframe tbody tr th:only-of-type {\n",
       "        vertical-align: middle;\n",
       "    }\n",
       "\n",
       "    .dataframe tbody tr th {\n",
       "        vertical-align: top;\n",
       "    }\n",
       "\n",
       "    .dataframe thead th {\n",
       "        text-align: right;\n",
       "    }\n",
       "</style>\n",
       "<table border=\"1\" class=\"dataframe\">\n",
       "  <thead>\n",
       "    <tr style=\"text-align: right;\">\n",
       "      <th></th>\n",
       "      <th>PR</th>\n",
       "      <th>GT</th>\n",
       "    </tr>\n",
       "  </thead>\n",
       "  <tbody>\n",
       "    <tr>\n",
       "      <th>0</th>\n",
       "      <td>0.180300</td>\n",
       "      <td>0</td>\n",
       "    </tr>\n",
       "    <tr>\n",
       "      <th>1</th>\n",
       "      <td>0.820631</td>\n",
       "      <td>1</td>\n",
       "    </tr>\n",
       "    <tr>\n",
       "      <th>2</th>\n",
       "      <td>0.472575</td>\n",
       "      <td>0</td>\n",
       "    </tr>\n",
       "    <tr>\n",
       "      <th>3</th>\n",
       "      <td>0.399816</td>\n",
       "      <td>0</td>\n",
       "    </tr>\n",
       "    <tr>\n",
       "      <th>4</th>\n",
       "      <td>0.242732</td>\n",
       "      <td>1</td>\n",
       "    </tr>\n",
       "    <tr>\n",
       "      <th>5</th>\n",
       "      <td>0.084057</td>\n",
       "      <td>0</td>\n",
       "    </tr>\n",
       "    <tr>\n",
       "      <th>6</th>\n",
       "      <td>0.928874</td>\n",
       "      <td>0</td>\n",
       "    </tr>\n",
       "    <tr>\n",
       "      <th>7</th>\n",
       "      <td>0.672026</td>\n",
       "      <td>0</td>\n",
       "    </tr>\n",
       "    <tr>\n",
       "      <th>8</th>\n",
       "      <td>0.443668</td>\n",
       "      <td>1</td>\n",
       "    </tr>\n",
       "    <tr>\n",
       "      <th>9</th>\n",
       "      <td>0.457481</td>\n",
       "      <td>0</td>\n",
       "    </tr>\n",
       "  </tbody>\n",
       "</table>\n",
       "</div>"
      ],
      "text/plain": [
       "         PR  GT\n",
       "0  0.180300   0\n",
       "1  0.820631   1\n",
       "2  0.472575   0\n",
       "3  0.399816   0\n",
       "4  0.242732   1\n",
       "5  0.084057   0\n",
       "6  0.928874   0\n",
       "7  0.672026   0\n",
       "8  0.443668   1\n",
       "9  0.457481   0"
      ]
     },
     "execution_count": 125,
     "metadata": {},
     "output_type": "execute_result"
    }
   ],
   "source": [
    "r"
   ]
  },
  {
   "cell_type": "code",
   "execution_count": 122,
   "metadata": {},
   "outputs": [
    {
     "data": {
      "text/html": [
       "<div>\n",
       "<style scoped>\n",
       "    .dataframe tbody tr th:only-of-type {\n",
       "        vertical-align: middle;\n",
       "    }\n",
       "\n",
       "    .dataframe tbody tr th {\n",
       "        vertical-align: top;\n",
       "    }\n",
       "\n",
       "    .dataframe thead th {\n",
       "        text-align: right;\n",
       "    }\n",
       "</style>\n",
       "<table border=\"1\" class=\"dataframe\">\n",
       "  <thead>\n",
       "    <tr style=\"text-align: right;\">\n",
       "      <th></th>\n",
       "      <th>PR</th>\n",
       "      <th>GT</th>\n",
       "    </tr>\n",
       "  </thead>\n",
       "  <tbody>\n",
       "    <tr>\n",
       "      <th>0</th>\n",
       "      <td>0.196510</td>\n",
       "      <td>0</td>\n",
       "    </tr>\n",
       "    <tr>\n",
       "      <th>1</th>\n",
       "      <td>0.838327</td>\n",
       "      <td>1</td>\n",
       "    </tr>\n",
       "    <tr>\n",
       "      <th>2</th>\n",
       "      <td>0.507137</td>\n",
       "      <td>0</td>\n",
       "    </tr>\n",
       "    <tr>\n",
       "      <th>3</th>\n",
       "      <td>0.417957</td>\n",
       "      <td>0</td>\n",
       "    </tr>\n",
       "    <tr>\n",
       "      <th>4</th>\n",
       "      <td>0.224017</td>\n",
       "      <td>1</td>\n",
       "    </tr>\n",
       "    <tr>\n",
       "      <th>5</th>\n",
       "      <td>0.086519</td>\n",
       "      <td>0</td>\n",
       "    </tr>\n",
       "    <tr>\n",
       "      <th>6</th>\n",
       "      <td>0.940063</td>\n",
       "      <td>0</td>\n",
       "    </tr>\n",
       "    <tr>\n",
       "      <th>7</th>\n",
       "      <td>0.677205</td>\n",
       "      <td>0</td>\n",
       "    </tr>\n",
       "    <tr>\n",
       "      <th>8</th>\n",
       "      <td>0.415942</td>\n",
       "      <td>1</td>\n",
       "    </tr>\n",
       "    <tr>\n",
       "      <th>9</th>\n",
       "      <td>0.451246</td>\n",
       "      <td>0</td>\n",
       "    </tr>\n",
       "  </tbody>\n",
       "</table>\n",
       "</div>"
      ],
      "text/plain": [
       "         PR  GT\n",
       "0  0.196510   0\n",
       "1  0.838327   1\n",
       "2  0.507137   0\n",
       "3  0.417957   0\n",
       "4  0.224017   1\n",
       "5  0.086519   0\n",
       "6  0.940063   0\n",
       "7  0.677205   0\n",
       "8  0.415942   1\n",
       "9  0.451246   0"
      ]
     },
     "execution_count": 122,
     "metadata": {},
     "output_type": "execute_result"
    }
   ],
   "source": [
    "r"
   ]
  },
  {
   "cell_type": "code",
   "execution_count": 105,
   "metadata": {},
   "outputs": [
    {
     "data": {
      "text/plain": [
       "array([[0.20894715],\n",
       "       [0.85875374],\n",
       "       [0.55228883],\n",
       "       [0.43673393],\n",
       "       [0.20887294],\n",
       "       [0.09006419],\n",
       "       [0.9498043 ],\n",
       "       [0.683598  ],\n",
       "       [0.40369013],\n",
       "       [0.44994438]], dtype=float32)"
      ]
     },
     "execution_count": 105,
     "metadata": {},
     "output_type": "execute_result"
    }
   ],
   "source": [
    "experts[0].predict_proba(X[-10:])"
   ]
  },
  {
   "cell_type": "code",
   "execution_count": null,
   "metadata": {},
   "outputs": [],
   "source": []
  }
 ],
 "metadata": {
  "kernelspec": {
   "display_name": "Python 3",
   "language": "python",
   "name": "python3"
  },
  "language_info": {
   "codemirror_mode": {
    "name": "ipython",
    "version": 3
   },
   "file_extension": ".py",
   "mimetype": "text/x-python",
   "name": "python",
   "nbconvert_exporter": "python",
   "pygments_lexer": "ipython3",
   "version": "3.5.5"
  }
 },
 "nbformat": 4,
 "nbformat_minor": 2
}
