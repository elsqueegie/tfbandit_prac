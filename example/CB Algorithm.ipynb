{
 "cells": [
  {
   "cell_type": "markdown",
   "metadata": {},
   "source": [
    "# Contextual Bandits - Algorithm Implementation"
   ]
  },
  {
   "cell_type": "code",
   "execution_count": 1,
   "metadata": {},
   "outputs": [
    {
     "name": "stderr",
     "output_type": "stream",
     "text": [
      "/Users/jmacdonald/anaconda/lib/python3.5/site-packages/h5py/__init__.py:36: FutureWarning: Conversion of the second argument of issubdtype from `float` to `np.floating` is deprecated. In future, it will be treated as `np.float64 == np.dtype(float).type`.\n",
      "  from ._conv import register_converters as _register_converters\n",
      "Using TensorFlow backend.\n",
      "/Users/jmacdonald/anaconda/lib/python3.5/importlib/_bootstrap.py:222: RuntimeWarning: compiletime version 3.6 of module 'tensorflow.python.framework.fast_tensor_util' does not match runtime version 3.5\n",
      "  return f(*args, **kwds)\n"
     ]
    }
   ],
   "source": [
    "import pandas as pd\n",
    "from keras import Sequential, regularizers\n",
    "from keras.layers import Dense, BatchNormalization, Dropout, Activation\n",
    "from keras.utils import np_utils\n",
    "import numpy as np\n",
    "from sklearn.preprocessing import MinMaxScaler\n",
    "from sklearn.linear_model import SGDClassifier\n",
    "import seaborn as sns\n",
    "import matplotlib.pyplot as plt\n",
    "%matplotlib inline"
   ]
  },
  {
   "cell_type": "code",
   "execution_count": 2,
   "metadata": {},
   "outputs": [],
   "source": [
    "col_names = [\n",
    "    'elevation',\n",
    "    'aspect',\n",
    "    'slope',\n",
    "    'h_dist_hydro',\n",
    "    'v_dist_hydro',\n",
    "    'h_dist_road',\n",
    "    'shade_9am',\n",
    "    'shade_noon',\n",
    "    'shade_3pm',\n",
    "    'h_dist_fire',\n",
    "]\n",
    "\n",
    "col_names += ['wild_' + str(i) for i in range(4)]\n",
    "col_names += ['soil_' + str(i) for i in range(40)]\n",
    "col_names.append('cover_type')"
   ]
  },
  {
   "cell_type": "code",
   "execution_count": 3,
   "metadata": {},
   "outputs": [
    {
     "name": "stderr",
     "output_type": "stream",
     "text": [
      "/Users/jmacdonald/anaconda/lib/python3.5/site-packages/sklearn/utils/validation.py:475: DataConversionWarning: Data with input dtype int64 was converted to float64 by MinMaxScaler.\n",
      "  warnings.warn(msg, DataConversionWarning)\n"
     ]
    }
   ],
   "source": [
    "df = pd.read_csv('./data/covtype.data.gz', names=col_names)\n",
    "df = pd.get_dummies(df.sample(frac=1, replace=False), columns=['cover_type'])\n",
    "\n",
    "X = df.values[:,:-7]\n",
    "scalar = MinMaxScaler()\n",
    "X = scalar.fit_transform(X)\n",
    "Y = df.values[:,-7:]\n",
    "\n"
   ]
  },
  {
   "cell_type": "code",
   "execution_count": 4,
   "metadata": {},
   "outputs": [
    {
     "name": "stderr",
     "output_type": "stream",
     "text": [
      "/Users/jmacdonald/anaconda/lib/python3.5/site-packages/sklearn/linear_model/stochastic_gradient.py:128: FutureWarning: max_iter and tol parameters have been added in <class 'sklearn.linear_model.stochastic_gradient.SGDClassifier'> in 0.19. If both are left unset, they default to max_iter=5 and tol=None. If tol is not None, max_iter defaults to max_iter=1000. From 0.21, default max_iter will be 1000, and default tol will be 1e-3.\n",
      "  \"and default tol will be 1e-3.\" % type(self), FutureWarning)\n"
     ]
    },
    {
     "name": "stdout",
     "output_type": "stream",
     "text": [
      "CPU times: user 47 s, sys: 450 ms, total: 47.5 s\n",
      "Wall time: 50.8 s\n"
     ]
    }
   ],
   "source": [
    "%%time\n",
    "\n",
    "experts = [SGDClassifier(loss='log') for i in range(7)]\n",
    "chosens = []\n",
    "bests = []\n",
    "\n",
    "for i in range(100000):\n",
    "    context = X[i]\n",
    "    try:\n",
    "        selected = np.argmax([expert.predict_proba(context.reshape(1,-1))[1] for expert in experts])\n",
    "        bests.append(selected)\n",
    "    except:\n",
    "        selected = np.random.choice(range(len(experts)))\n",
    "    selected = np.random.choice([selected]+[np.random.choice(range(len(experts)))], p=[0.9,0.1])\n",
    "    chosens.append(selected)\n",
    "    expert = experts[selected]\n",
    "    expert.partial_fit(context.reshape(1,-1), Y[i][[selected]], classes=[0,1])"
   ]
  },
  {
   "cell_type": "code",
   "execution_count": 5,
   "metadata": {},
   "outputs": [
    {
     "name": "stdout",
     "output_type": "stream",
     "text": [
      "CPU times: user 49.7 s, sys: 666 ms, total: 50.3 s\n",
      "Wall time: 55 s\n"
     ]
    }
   ],
   "source": [
    "%%time \n",
    "\n",
    "results = pd.DataFrame([np.ravel([\n",
    "    expert.predict_proba(X[i].reshape(1,-1))[0][1] for expert in experts\n",
    "]) for i in range(100000,200000)])   "
   ]
  },
  {
   "cell_type": "code",
   "execution_count": 117,
   "metadata": {},
   "outputs": [
    {
     "data": {
      "text/plain": [
       "0.66694"
      ]
     },
     "execution_count": 117,
     "metadata": {},
     "output_type": "execute_result"
    }
   ],
   "source": [
    "results['Match'].mean()"
   ]
  },
  {
   "cell_type": "code",
   "execution_count": 6,
   "metadata": {},
   "outputs": [
    {
     "data": {
      "text/plain": [
       "<matplotlib.axes._subplots.AxesSubplot at 0x119ea74a8>"
      ]
     },
     "execution_count": 6,
     "metadata": {},
     "output_type": "execute_result"
    },
    {
     "data": {
      "image/png": "[encoded data removed]",
      "text/plain": [
       "<Figure size 432x288 with 1 Axes>"
      ]
     },
     "metadata": {},
     "output_type": "display_data"
    }
   ],
   "source": [
    "results['Pred'] = np.argmax(results.values, axis=1)\n",
    "results['Class'] = np.argmax(Y[100000:200000],axis=1)\n",
    "results['Match'] = (results['Pred']==results['Class'])\n",
    "results.groupby('Pred').size().plot(kind='bar')"
   ]
  },
  {
   "cell_type": "code",
   "execution_count": 7,
   "metadata": {},
   "outputs": [
    {
     "data": {
      "text/plain": [
       "<matplotlib.axes._subplots.AxesSubplot at 0x1187fd4e0>"
      ]
     },
     "execution_count": 7,
     "metadata": {},
     "output_type": "execute_result"
    },
    {
     "data": {
      "image/png": "[encoded data removed]",
      "text/plain": [
       "<Figure size 432x288 with 1 Axes>"
      ]
     },
     "metadata": {},
     "output_type": "display_data"
    }
   ],
   "source": [
    "results.groupby('Class').size().plot(kind='bar')"
   ]
  },
  {
   "cell_type": "code",
   "execution_count": 8,
   "metadata": {},
   "outputs": [],
   "source": [
    "def get_expert(input_shape, n_hidden, n_layers):\n",
    "\n",
    "    expert = Sequential()\n",
    "    for layer in range(n_layers):\n",
    "        expert.add(Dense(n_hidden,\n",
    "                        kernel_initializer='glorot_uniform',\n",
    "                        activation='relu',\n",
    "                        input_dim=input_shape,\n",
    "                        kernel_regularizer=regularizers.l2(0.01)))\n",
    "        expert.add(BatchNormalization())\n",
    "        input_shape = n_hidden\n",
    "    expert.add(Dense(1, activation='sigmoid', input_dim=n_hidden))\n",
    "    return expert\n"
   ]
  },
  {
   "cell_type": "code",
   "execution_count": 115,
   "metadata": {},
   "outputs": [
    {
     "name": "stdout",
     "output_type": "stream",
     "text": [
      "0 accuracy: 0.314\n",
      "1000 accuracy: 0.136\n",
      "2000 accuracy: 0.16\n",
      "3000 accuracy: 0.168\n",
      "4000 accuracy: 0.196\n",
      "5000 accuracy: 0.219\n",
      "6000 accuracy: 0.243\n",
      "7000 accuracy: 0.275\n",
      "8000 accuracy: 0.305\n",
      "9000 accuracy: 0.33\n",
      "10000 accuracy: 0.34\n",
      "11000 accuracy: 0.348\n",
      "12000 accuracy: 0.349\n",
      "13000 accuracy: 0.348\n",
      "14000 accuracy: 0.358\n",
      "15000 accuracy: 0.365\n",
      "16000 accuracy: 0.372\n",
      "17000 accuracy: 0.373\n",
      "18000 accuracy: 0.369\n",
      "19000 accuracy: 0.374\n",
      "20000 accuracy: 0.377\n",
      "21000 accuracy: 0.378\n",
      "22000 accuracy: 0.378\n",
      "23000 accuracy: 0.378\n",
      "24000 accuracy: 0.378\n",
      "25000 accuracy: 0.377\n",
      "26000 accuracy: 0.378\n",
      "27000 accuracy: 0.38\n",
      "28000 accuracy: 0.381\n",
      "29000 accuracy: 0.38\n",
      "30000 accuracy: 0.38\n",
      "31000 accuracy: 0.382\n",
      "32000 accuracy: 0.382\n",
      "33000 accuracy: 0.38\n",
      "34000 accuracy: 0.38\n",
      "35000 accuracy: 0.38\n",
      "36000 accuracy: 0.376\n",
      "37000 accuracy: 0.38\n",
      "38000 accuracy: 0.381\n",
      "39000 accuracy: 0.381\n",
      "40000 accuracy: 0.382\n",
      "41000 accuracy: 0.38\n",
      "42000 accuracy: 0.378\n",
      "43000 accuracy: 0.379\n",
      "44000 accuracy: 0.38\n",
      "45000 accuracy: 0.379\n",
      "46000 accuracy: 0.38\n",
      "47000 accuracy: 0.38\n",
      "48000 accuracy: 0.38\n",
      "49000 accuracy: 0.381\n",
      "50000 accuracy: 0.381\n",
      "CPU times: user 20min 7s, sys: 1min 12s, total: 21min 19s\n",
      "Wall time: 23min 24s\n"
     ]
    }
   ],
   "source": [
    "%%time\n",
    "experts = [get_expert(X.shape[1], 32, 1) for i in range(7)]\n",
    "[ex.compile(optimizer='sgd',loss='binary_crossentropy') for ex in experts]\n",
    "\n",
    "\n",
    "chosens = []\n",
    "bests = []\n",
    "corrects = []\n",
    "cweights = {0:1,1:1,2:1,3:1,4:1,5:1,6:1}\n",
    "\n",
    "for i in range(50001):\n",
    "    context = X[i].reshape(1,-1)\n",
    "    try:\n",
    "        selected = np.argmax([expert.predict_proba(context.reshape(1,-1))[0] for expert in experts])\n",
    "        bests.append(selected)\n",
    "    except:\n",
    "        selected = np.random.choice(range(len(experts)))\n",
    "    selected = np.random.choice([selected]+[np.random.choice(range(len(experts)))], p=[0.9,0.1])\n",
    "    chosens.append(selected)\n",
    "    expert = experts[selected]\n",
    "    expert.train_on_batch(context, Y[i][[selected]], class_weight=cweights)\n",
    "    if Y[i][[selected]] == 1:\n",
    "        cweights[selected] /= 1.001\n",
    "        \n",
    "    if i % 1000 == 0:\n",
    "        print(i, \n",
    "              \"accuracy:\", \n",
    "              np.mean(np.argmax([expert.predict_proba(X[-1000:]) for expert in experts], axis=0\n",
    "                       )[:,0] == np.argmax(Y[-1000:], axis=1))\n",
    "             )"
   ]
  },
  {
   "cell_type": "code",
   "execution_count": 111,
   "metadata": {},
   "outputs": [
    {
     "name": "stdout",
     "output_type": "stream",
     "text": [
      "CPU times: user 9.53 s, sys: 462 ms, total: 9.99 s\n",
      "Wall time: 8.87 s\n"
     ]
    },
    {
     "data": {
      "image/png": "[encoded data removed]",
      "text/plain": [
       "<Figure size 432x288 with 1 Axes>"
      ]
     },
     "metadata": {},
     "output_type": "display_data"
    }
   ],
   "source": [
    "%%time \n",
    "\n",
    "keras_results = pd.DataFrame([np.ravel(expert.predict_proba(X[100000:120000])) for expert in experts]).T\n",
    "keras_results['Pred'] = np.argmax(keras_results[list(range(7))].values, axis=1)\n",
    "keras_results['Class'] = np.argmax(Y[100000:120000],axis=1)\n",
    "keras_results['Match'] = (keras_results['Pred']==keras_results['Class'])\n",
    "keras_results.groupby('Pred').size().plot(kind='bar')"
   ]
  },
  {
   "cell_type": "code",
   "execution_count": 113,
   "metadata": {},
   "outputs": [
    {
     "data": {
      "text/plain": [
       "0.33845"
      ]
     },
     "execution_count": 113,
     "metadata": {},
     "output_type": "execute_result"
    }
   ],
   "source": [
    "keras_results['Match'].mean()"
   ]
  }
 ],
 "metadata": {
  "kernelspec": {
   "display_name": "Python 3",
   "language": "python",
   "name": "python3"
  },
  "language_info": {
   "codemirror_mode": {
    "name": "ipython",
    "version": 3
   },
   "file_extension": ".py",
   "mimetype": "text/x-python",
   "name": "python",
   "nbconvert_exporter": "python",
   "pygments_lexer": "ipython3",
   "version": "3.5.5"
  }
 },
 "nbformat": 4,
 "nbformat_minor": 2
}
